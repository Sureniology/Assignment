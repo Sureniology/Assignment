{
 "cells": [
  {
   "cell_type": "markdown",
   "metadata": {},
   "source": [
    "As a term, data analytics predominantly refers to an assortment of applications, from basic business \n",
    "intelligence (BI), reporting and online analytical processing (OLAP) to various forms of advanced \n",
    "analytics. In that sense, it's similar in nature to business analytics, another umbrella term for \n",
    "approaches to analyzing data -- with the difference that the latter is oriented to business uses, while \n",
    "data analytics has a broader focus. The expansive view of the term isn't universal, though: In some \n",
    "cases, people use data analytics specifically to mean advanced analytics, treating BI as a separate \n",
    "category. Data analytics initiatives can help businesses increase revenues, improve operational \n",
    "efficiency, optimize marketing campaigns and customer service efforts, respond more quickly to \n",
    "emerging market trends and gain a competitive edge over rivals -- all with the ultimate goal of \n",
    "boosting business performance. Depending on the particular application, the data that's analyzed \n",
    "can consist of either historical records or new information that has been processed for real-time \n",
    "analytics uses. In addition, it can come from a mix of internal systems and external data sources. At \n",
    "a high level, data analytics methodologies include exploratory data analysis (EDA), which aims to find \n",
    "patterns and relationships in data, and confirmatory data analysis (CDA), which applies statistical \n",
    "techniques to determine whether hypotheses about a data set are true or false. EDA is often \n",
    "compared to detective work, while CDA is akin to the work of a judge or jury during a court trial -- a \n",
    "distinction first drawn by statistician John W. Tukey in his 1977 book Exploratory Data Analysis. Data \n",
    "analytics can also be separated into quantitative data analysis and qualitative data analysis. The \n",
    "former involves analysis of numerical data with quantifiable variables that can be compared or \n",
    "measured statistically. The qualitative approach is more interpretive -- it focuses on understanding \n",
    "the content of non-numerical data like text, images, audio and video, including common phrases, \n",
    "themes and points of view"
   ]
  },
  {
   "cell_type": "markdown",
   "metadata": {},
   "source": [
    "Feed the following paragraph into your favourite data analytics tool, and answer the following;\n",
    "\n",
    "a. What is the probability of the word “data” occurring in each line ?\n",
    "\n",
    "b. What is the distribution of distinct word counts across all the lines ?\n",
    "\n",
    "c. What is the probability of the word “analytics” occurring after the word “data” ?"
   ]
  },
  {
   "cell_type": "code",
   "execution_count": 30,
   "metadata": {},
   "outputs": [],
   "source": [
    "import re\n",
    "from collections import Counter\n",
    "import pandas as pd\n",
    "import seaborn as sns\n",
    "import nltk \n",
    "from sklearn.feature_extraction.text import CountVectorizer, TfidfVectorizer \n",
    "from nltk.corpus import stopwords \n",
    "from nltk.tokenize import word_tokenize"
   ]
  },
  {
   "cell_type": "code",
   "execution_count": 31,
   "metadata": {},
   "outputs": [],
   "source": [
    "text = \"\"\"As a term, data analytics predominantly refers to an assortment of applications, from basic business intelligence (BI), reporting and online analytical processing (OLAP) to various forms of advanced analytics. In that sense, it's similar in nature to business analytics, another umbrella term for approaches to analyzing data -- with the difference that the latter is oriented to business uses, while data analytics has a broader focus. The expansive view of the term isn't universal, though: In some cases, people use data analytics specifically to mean advanced analytics, treating BI as a separate category. Data analytics initiatives can help businesses increase revenues, improve operational efficiency, optimize marketing campaigns and customer service efforts, respond more quickly to emerging market trends and gain a competitive edge over rivals -- all with the ultimate goal of boosting business performance. Depending on the particular application, the data that's analyzed can consist of either historical records or new information that has been processed for real-time analytics uses. In addition, it can come from a mix of internal systems and external data sources. At a high level, data analytics methodologies include exploratory data analysis (EDA), which aims to find patterns and relationships in data, and confirmatory data analysis (CDA), which applies statistical techniques to determine whether hypotheses about a data set are true or false. EDA is often compared to detective work, while CDA is akin to the work of a judge or jury during a court trial -- a distinction first drawn by statistician John W. Tukey in his 1977 book Exploratory Data Analysis. Data analytics can also be separated into quantitative data analysis and qualitative data analysis. The former involves analysis of numerical data with quantifiable variables that can be compared or measured statistically. The qualitative approach is more interpretive -- it focuses on understanding the content of non-numerical data like text, images, audio and video, including common phrases, themes and points of view\"\"\""
   ]
  },
  {
   "cell_type": "code",
   "execution_count": 32,
   "metadata": {},
   "outputs": [],
   "source": [
    "def tokenize(string):\n",
    "    return re.compile('\\w+').findall(string)\n",
    "\n",
    "def word_freq(string): \n",
    "    text = tokenize(string.lower())\n",
    "    c = Counter(text)          \n",
    "    d = Counter(''.join(text)) \n",
    "    return (dict(c))  \n",
    "\n",
    "def return_word_freq(string): \n",
    "    text = tokenize(string.lower())\n",
    "    c = Counter(text)           \n",
    "    d = Counter(''.join(text))  \n",
    "    return (dict(c), dict(d))   "
   ]
  },
  {
   "cell_type": "code",
   "execution_count": 33,
   "metadata": {},
   "outputs": [
    {
     "data": {
      "text/plain": [
       "\"as a term, data analytics predominantly refers to an assortment of applications, from basic business intelligence (bi), reporting and online analytical processing (olap) to various forms of advanced analytics. in that sense, it's similar in nature to business analytics, another umbrella term for approaches to analyzing data -- with the difference that the latter is oriented to business uses, while data analytics has a broader focus. the expansive view of the term isn't universal, though: in some cases, people use data analytics specifically to mean advanced analytics, treating bi as a separate category. data analytics initiatives can help businesses increase revenues, improve operational efficiency, optimize marketing campaigns and customer service efforts, respond more quickly to emerging market trends and gain a competitive edge over rivals -- all with the ultimate goal of boosting business performance. depending on the particular application, the data that's analyzed can consist of either historical records or new information that has been processed for real-time analytics uses. in addition, it can come from a mix of internal systems and external data sources. at a high level, data analytics methodologies include exploratory data analysis (eda), which aims to find patterns and relationships in data, and confirmatory data analysis (cda), which applies statistical techniques to determine whether hypotheses about a data set are true or false. eda is often compared to detective work, while cda is akin to the work of a judge or jury during a court trial -- a distinction first drawn by statistician john w. tukey in his 1977 book exploratory data analysis. data analytics can also be separated into quantitative data analysis and qualitative data analysis. the former involves analysis of numerical data with quantifiable variables that can be compared or measured statistically. the qualitative approach is more interpretive -- it focuses on understanding the content of non-numerical data like text, images, audio and video, including common phrases, themes and points of view\""
      ]
     },
     "execution_count": 33,
     "metadata": {},
     "output_type": "execute_result"
    }
   ],
   "source": [
    "text = text.lower()\n",
    "text"
   ]
  },
  {
   "cell_type": "code",
   "execution_count": 34,
   "metadata": {},
   "outputs": [],
   "source": [
    "line = text.split(\"--\")"
   ]
  },
  {
   "cell_type": "code",
   "execution_count": 35,
   "metadata": {},
   "outputs": [
    {
     "data": {
      "text/plain": [
       "[\"as a term, data analytics predominantly refers to an assortment of applications, from basic business intelligence (bi), reporting and online analytical processing (olap) to various forms of advanced analytics. in that sense, it's similar in nature to business analytics, another umbrella term for approaches to analyzing data \",\n",
       " \" with the difference that the latter is oriented to business uses, while data analytics has a broader focus. the expansive view of the term isn't universal, though: in some cases, people use data analytics specifically to mean advanced analytics, treating bi as a separate category. data analytics initiatives can help businesses increase revenues, improve operational efficiency, optimize marketing campaigns and customer service efforts, respond more quickly to emerging market trends and gain a competitive edge over rivals \",\n",
       " \" all with the ultimate goal of boosting business performance. depending on the particular application, the data that's analyzed can consist of either historical records or new information that has been processed for real-time analytics uses. in addition, it can come from a mix of internal systems and external data sources. at a high level, data analytics methodologies include exploratory data analysis (eda), which aims to find patterns and relationships in data, and confirmatory data analysis (cda), which applies statistical techniques to determine whether hypotheses about a data set are true or false. eda is often compared to detective work, while cda is akin to the work of a judge or jury during a court trial \",\n",
       " ' a distinction first drawn by statistician john w. tukey in his 1977 book exploratory data analysis. data analytics can also be separated into quantitative data analysis and qualitative data analysis. the former involves analysis of numerical data with quantifiable variables that can be compared or measured statistically. the qualitative approach is more interpretive ',\n",
       " ' it focuses on understanding the content of non-numerical data like text, images, audio and video, including common phrases, themes and points of view']"
      ]
     },
     "execution_count": 35,
     "metadata": {},
     "output_type": "execute_result"
    }
   ],
   "source": [
    "line"
   ]
  },
  {
   "cell_type": "code",
   "execution_count": 36,
   "metadata": {},
   "outputs": [
    {
     "data": {
      "text/plain": [
       "5"
      ]
     },
     "execution_count": 36,
     "metadata": {},
     "output_type": "execute_result"
    }
   ],
   "source": [
    "nlines = len(line)\n",
    "nlines"
   ]
  },
  {
   "cell_type": "code",
   "execution_count": 37,
   "metadata": {},
   "outputs": [],
   "source": [
    "words = word_freq(text) \n",
    "words_, letters = return_word_freq(text)\n",
    "\n",
    "sumWords = sum(words.values())      \n",
    "sumLetters = sum(letters.values()) "
   ]
  },
  {
   "cell_type": "code",
   "execution_count": 38,
   "metadata": {},
   "outputs": [],
   "source": [
    "data_count = words['data']\n",
    "analytics_count = words['analytics']"
   ]
  },
  {
   "cell_type": "code",
   "execution_count": 39,
   "metadata": {},
   "outputs": [],
   "source": [
    "probablity_of_data_appearing_in_every_line = data_count/nlines"
   ]
  },
  {
   "cell_type": "code",
   "execution_count": 40,
   "metadata": {},
   "outputs": [
    {
     "data": {
      "text/plain": [
       "3.6"
      ]
     },
     "execution_count": 40,
     "metadata": {},
     "output_type": "execute_result"
    }
   ],
   "source": [
    "#a. What is the probability of the word “data” occurring in each line ?\n",
    "probablity_of_data_appearing_in_every_line"
   ]
  },
  {
   "cell_type": "code",
   "execution_count": 41,
   "metadata": {},
   "outputs": [
    {
     "name": "stderr",
     "output_type": "stream",
     "text": [
      "C:\\ProgramData\\Anaconda3\\lib\\site-packages\\seaborn\\distributions.py:2551: FutureWarning: `distplot` is a deprecated function and will be removed in a future version. Please adapt your code to use either `displot` (a figure-level function with similar flexibility) or `histplot` (an axes-level function for histograms).\n",
      "  warnings.warn(msg, FutureWarning)\n",
      "C:\\ProgramData\\Anaconda3\\lib\\site-packages\\seaborn\\distributions.py:2055: FutureWarning: The `axis` variable is no longer used and will be removed. Instead, assign variables directly to `x` or `y`.\n",
      "  warnings.warn(msg, FutureWarning)\n"
     ]
    },
    {
     "data": {
      "text/plain": [
       "<AxesSubplot:ylabel='Density'>"
      ]
     },
     "execution_count": 41,
     "metadata": {},
     "output_type": "execute_result"
    },
    {
     "data": {
      "image/png": "[encoded data removed]",
      "text/plain": [
       "<Figure size 1080x576 with 1 Axes>"
      ]
     },
     "metadata": {},
     "output_type": "display_data"
    }
   ],
   "source": [
    "#b. What is the distribution of distinct word counts across all the lines ?\n",
    "\n",
    "line_unique_counts = []\n",
    "for i in line:\n",
    "    line_unique_counts.append(len(word_freq(i)))\n",
    "    \n",
    "df_unique_words = pd.DataFrame(line_unique_counts)\n",
    "df_unique_words.rename(columns={0: \"Unique_Words\"})\n",
    "\n",
    "sns.set(rc = {'figure.figsize':(15,8)})\n",
    "sns.distplot(df_unique_words, kde=True, rug=True)"
   ]
  },
  {
   "cell_type": "code",
   "execution_count": 42,
   "metadata": {},
   "outputs": [],
   "source": [
    "#c. What is the probability of the word “analytics” occurring after the word “data” ?"
   ]
  },
  {
   "cell_type": "code",
   "execution_count": 50,
   "metadata": {},
   "outputs": [
    {
     "name": "stdout",
     "output_type": "stream",
     "text": [
      "Count of data analytics appear together: 6\n",
      "Count only analytics appear in complete text: 10\n"
     ]
    }
   ],
   "source": [
    "bigramwords = re.findall('\\w+', text)\n",
    "bigram_counts = Counter(zip(bigramwords,bigramwords[1:]))\n",
    "data_analytics_count = bigram_counts[(\"data\", \"analytics\")]\n",
    "\n",
    "print(f\"Count of data analytics appear together: {data_analytics_count}\")\n",
    "print(f\"Count only analytics appear in complete text: {analytics_count}\")"
   ]
  },
  {
   "cell_type": "code",
   "execution_count": 49,
   "metadata": {},
   "outputs": [
    {
     "name": "stdout",
     "output_type": "stream",
     "text": [
      "Probablity of analytics appearing after data: 0.6\n"
     ]
    }
   ],
   "source": [
    "probability_analytics = data_analytics_count/analytics_count\n",
    "print(f\"Probablity of analytics appearing after data: {probability_analytics}\")"
   ]
  },
  {
   "cell_type": "code",
   "execution_count": null,
   "metadata": {},
   "outputs": [],
   "source": []
  }
 ],
 "metadata": {
  "kernelspec": {
   "display_name": "Python 3",
   "language": "python",
   "name": "python3"
  },
  "language_info": {
   "codemirror_mode": {
    "name": "ipython",
    "version": 3
   },
   "file_extension": ".py",
   "mimetype": "text/x-python",
   "name": "python",
   "nbconvert_exporter": "python",
   "pygments_lexer": "ipython3",
   "version": "3.8.5"
  }
 },
 "nbformat": 4,
 "nbformat_minor": 4
}
